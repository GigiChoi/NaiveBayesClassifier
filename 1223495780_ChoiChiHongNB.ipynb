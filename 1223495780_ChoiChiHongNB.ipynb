{
 "cells": [
  {
   "cell_type": "code",
   "execution_count": 1,
   "metadata": {},
   "outputs": [
    {
     "name": "stdout",
     "output_type": "stream",
     "text": [
      "[5000, 5000, 980, 1135]\n",
      "Your trainset and testset are generated successfully!\n"
     ]
    }
   ],
   "source": [
    "import numpy\n",
    "import scipy.io\n",
    "import math\n",
    "import geneNewData\n",
    "\n",
    "def main():\n",
    "    myID='5780'\n",
    "    geneNewData.geneData(myID)\n",
    "    Numpyfile0 = scipy.io.loadmat('digit0_stu_train'+myID+'.mat')\n",
    "    Numpyfile1 = scipy.io.loadmat('digit1_stu_train'+myID+'.mat')\n",
    "    Numpyfile2 = scipy.io.loadmat('digit0_testset'+'.mat')\n",
    "    Numpyfile3 = scipy.io.loadmat('digit1_testset'+'.mat')\n",
    "    train0 = Numpyfile0.get('target_img')\n",
    "    train1 = Numpyfile1.get('target_img')\n",
    "    test0 = Numpyfile2.get('target_img')\n",
    "    test1 = Numpyfile3.get('target_img')\n",
    "    print([len(train0),len(train1),len(test0),len(test1)])\n",
    "    print('Your trainset and testset are generated successfully!')\n",
    "    pass\n",
    "\n",
    "\n",
    "if __name__ == '__main__':\n",
    "    main()"
   ]
  },
  {
   "cell_type": "code",
   "execution_count": 2,
   "metadata": {},
   "outputs": [
    {
     "ename": "ModuleNotFoundError",
     "evalue": "No module named 'geneNewData'",
     "output_type": "error",
     "traceback": [
      "\u001b[1;31m---------------------------------------------------------------------------\u001b[0m",
      "\u001b[1;31mModuleNotFoundError\u001b[0m                       Traceback (most recent call last)",
      "\u001b[1;32m~\\AppData\\Local\\Temp/ipykernel_25432/1782826100.py\u001b[0m in \u001b[0;36m<module>\u001b[1;34m\u001b[0m\n\u001b[0;32m      2\u001b[0m \u001b[1;32mimport\u001b[0m \u001b[0mscipy\u001b[0m\u001b[1;33m.\u001b[0m\u001b[0mio\u001b[0m\u001b[1;33m\u001b[0m\u001b[1;33m\u001b[0m\u001b[0m\n\u001b[0;32m      3\u001b[0m \u001b[1;32mimport\u001b[0m \u001b[0mmath\u001b[0m\u001b[1;33m\u001b[0m\u001b[1;33m\u001b[0m\u001b[0m\n\u001b[1;32m----> 4\u001b[1;33m \u001b[1;32mimport\u001b[0m \u001b[0mgeneNewData\u001b[0m\u001b[1;33m\u001b[0m\u001b[1;33m\u001b[0m\u001b[0m\n\u001b[0m\u001b[0;32m      5\u001b[0m \u001b[1;32mfrom\u001b[0m \u001b[0mscipy\u001b[0m\u001b[1;33m.\u001b[0m\u001b[0mstats\u001b[0m \u001b[1;32mimport\u001b[0m \u001b[0mnorm\u001b[0m\u001b[1;33m\u001b[0m\u001b[1;33m\u001b[0m\u001b[0m\n",
      "\u001b[1;31mModuleNotFoundError\u001b[0m: No module named 'geneNewData'"
     ]
    }
   ],
   "source": [
    "import numpy as np\n",
    "import scipy.io\n",
    "import math\n",
    "import geneNewData\n",
    "from scipy.stats import norm"
   ]
  },
  {
   "cell_type": "code",
   "execution_count": null,
   "metadata": {},
   "outputs": [],
   "source": [
    "#Task 1\n",
    "myID='5780'\n",
    "geneNewData.geneData(myID)\n",
    "Numpyfile0 = scipy.io.loadmat('digit0_stu_train'+myID+'.mat')\n",
    "Numpyfile1 = scipy.io.loadmat('digit1_stu_train'+myID+'.mat')\n",
    "Numpyfile2 = scipy.io.loadmat('digit0_testset'+'.mat')\n",
    "Numpyfile3 = scipy.io.loadmat('digit1_testset'+'.mat')\n",
    "train0 = Numpyfile0.get('target_img')\n",
    "train1 = Numpyfile1.get('target_img')\n",
    "test0 = Numpyfile2.get('target_img')\n",
    "test1 = Numpyfile3.get('target_img')\n",
    "\n",
    "#Train0\n",
    "train0_avg = np.array([np.average(xi) for xi in train0])\n",
    "train0_std = np.array([np.std(xi) for xi in train0])\n",
    "train0_2d = np.vstack((train0_avg,train0_std)).T\n",
    "print(\"train0_2d.shape: \", train0_2d.shape)\n",
    "\n",
    "#Train1\n",
    "train1_avg = np.array([np.average(xi) for xi in train1])\n",
    "train1_std = np.array([np.std(xi) for xi in train1])\n",
    "train1_2d = np.vstack((train1_avg,train1_std)).T\n",
    "print(\"train1_2d.shape: \", train1_2d.shape)\n",
    "\n",
    "#Test0\n",
    "test0_avg = np.array([np.average(xi) for xi in test0])\n",
    "test0_std = np.array([np.std(xi) for xi in test0])\n",
    "test0_2d = np.vstack((test0_avg,test0_std)).T\n",
    "print(\"test0_2d.shape: \", test0_2d.shape)\n",
    "\n",
    "#Train1\n",
    "test1_avg = np.array([np.average(xi) for xi in test1])\n",
    "test1_std = np.array([np.std(xi) for xi in test1])\n",
    "test1_2d = np.vstack((test1_avg,test1_std)).T\n",
    "print(\"test1_2d.shape: \", test1_2d.shape)"
   ]
  },
  {
   "cell_type": "code",
   "execution_count": 3,
   "metadata": {},
   "outputs": [
    {
     "ename": "NameError",
     "evalue": "name 'train0_avg' is not defined",
     "output_type": "error",
     "traceback": [
      "\u001b[1;31m---------------------------------------------------------------------------\u001b[0m",
      "\u001b[1;31mNameError\u001b[0m                                 Traceback (most recent call last)",
      "\u001b[1;32m~\\AppData\\Local\\Temp/ipykernel_25432/2791153531.py\u001b[0m in \u001b[0;36m<module>\u001b[1;34m\u001b[0m\n\u001b[0;32m      1\u001b[0m \u001b[1;31m#Task 2\u001b[0m\u001b[1;33m\u001b[0m\u001b[1;33m\u001b[0m\u001b[0m\n\u001b[0;32m      2\u001b[0m \u001b[1;31m#(No.1) Mean of feature1 for digit0\u001b[0m\u001b[1;33m\u001b[0m\u001b[1;33m\u001b[0m\u001b[0m\n\u001b[1;32m----> 3\u001b[1;33m \u001b[0mmean_x0_0\u001b[0m \u001b[1;33m=\u001b[0m \u001b[0mnp\u001b[0m\u001b[1;33m.\u001b[0m\u001b[0maverage\u001b[0m\u001b[1;33m(\u001b[0m\u001b[0mtrain0_avg\u001b[0m\u001b[1;33m)\u001b[0m\u001b[1;33m\u001b[0m\u001b[1;33m\u001b[0m\u001b[0m\n\u001b[0m\u001b[0;32m      4\u001b[0m \u001b[0mprint\u001b[0m\u001b[1;33m(\u001b[0m\u001b[1;34m\"(No.1) Mean of feature1 for digit0: \"\u001b[0m\u001b[1;33m,\u001b[0m \u001b[0mmean_x0_0\u001b[0m\u001b[1;33m)\u001b[0m\u001b[1;33m\u001b[0m\u001b[1;33m\u001b[0m\u001b[0m\n\u001b[0;32m      5\u001b[0m \u001b[1;33m\u001b[0m\u001b[0m\n",
      "\u001b[1;31mNameError\u001b[0m: name 'train0_avg' is not defined"
     ]
    }
   ],
   "source": [
    "#Task 2\n",
    "#(No.1) Mean of feature1 for digit0\n",
    "mean_x0_0 = np.average(train0_avg)\n",
    "print(\"(No.1) Mean of feature1 for digit0: \", mean_x0_0)\n",
    "\n",
    "#(No.2) Variance of feature1 for digit0\n",
    "var_x0_0 = np.var(train0_avg)\n",
    "print(\"(No.2) Variance of feature1 for digit0: \", var_x0_0)\n",
    "\n",
    "#(No.3) Mean of feature2 for digit0\n",
    "mean_x1_0 = np.average(train0_std)\n",
    "print(\"(No.3) Mean of feature2 for digit0: \", mean_x1_0)\n",
    "\n",
    "#(No.4) Variance of feature2 for digit0\n",
    "var_x1_0 = np.var(train0_std)\n",
    "print(\"(No.4) Variance of feature2 for digit0: \", var_x1_0)\n",
    "\n",
    "#(No.5) Mean of feature1 for digit1\n",
    "mean_x0_1 = np.average(train1_avg)\n",
    "print(\"(No.5) Mean of feature1 for digit1: \", mean_x0_1)\n",
    "\n",
    "#(No.6) Variance of feature1 for digit1\n",
    "var_x0_1 = np.var(train1_avg)\n",
    "print(\"(No.6) Variance of feature1 for digit1: \", var_x0_1)\n",
    "\n",
    "#(No.7) Mean of feature2 for digit1\n",
    "mean_x1_1 = np.average(train1_std)\n",
    "print(\"(No.7) Mean of feature2 for digit1: \", mean_x1_1)\n",
    "\n",
    "#(No.8) Variance of feature2 for digit1\n",
    "var_x1_1 = np.var(train1_std)\n",
    "print(\"(No.8) Variance of feature2 for digit1: \", var_x1_1)"
   ]
  },
  {
   "cell_type": "code",
   "execution_count": 4,
   "metadata": {},
   "outputs": [
    {
     "ename": "NameError",
     "evalue": "name 'test0_2d' is not defined",
     "output_type": "error",
     "traceback": [
      "\u001b[1;31m---------------------------------------------------------------------------\u001b[0m",
      "\u001b[1;31mNameError\u001b[0m                                 Traceback (most recent call last)",
      "\u001b[1;32m~\\AppData\\Local\\Temp/ipykernel_25432/3128269448.py\u001b[0m in \u001b[0;36m<module>\u001b[1;34m\u001b[0m\n\u001b[0;32m     29\u001b[0m \u001b[1;33m\u001b[0m\u001b[0m\n\u001b[0;32m     30\u001b[0m \u001b[1;31m#print(mean_x0_0, var_x0_0, mean_x1_0, var_x1_0, mean_x0_1, var_x0_1, mean_x1_1, var_x1_1)\u001b[0m\u001b[1;33m\u001b[0m\u001b[1;33m\u001b[0m\u001b[0m\n\u001b[1;32m---> 31\u001b[1;33m \u001b[0mresult_of_test0\u001b[0m \u001b[1;33m=\u001b[0m \u001b[0mnaive_bayes_gaussian_classifier\u001b[0m\u001b[1;33m(\u001b[0m\u001b[0mtest0_2d\u001b[0m\u001b[1;33m,\u001b[0m \u001b[0mmean_x0_0\u001b[0m\u001b[1;33m,\u001b[0m \u001b[0mvar_x0_0\u001b[0m\u001b[1;33m,\u001b[0m \u001b[0mmean_x1_0\u001b[0m\u001b[1;33m,\u001b[0m \u001b[0mvar_x1_0\u001b[0m\u001b[1;33m,\u001b[0m \u001b[0mmean_x0_1\u001b[0m\u001b[1;33m,\u001b[0m \u001b[0mvar_x0_1\u001b[0m\u001b[1;33m,\u001b[0m \u001b[0mmean_x1_1\u001b[0m\u001b[1;33m,\u001b[0m \u001b[0mvar_x1_1\u001b[0m\u001b[1;33m)\u001b[0m\u001b[1;33m\u001b[0m\u001b[1;33m\u001b[0m\u001b[0m\n\u001b[0m\u001b[0;32m     32\u001b[0m \u001b[0mresult_of_test1\u001b[0m \u001b[1;33m=\u001b[0m \u001b[0mnaive_bayes_gaussian_classifier\u001b[0m\u001b[1;33m(\u001b[0m\u001b[0mtest1_2d\u001b[0m\u001b[1;33m,\u001b[0m \u001b[0mmean_x0_0\u001b[0m\u001b[1;33m,\u001b[0m \u001b[0mvar_x0_0\u001b[0m\u001b[1;33m,\u001b[0m \u001b[0mmean_x1_0\u001b[0m\u001b[1;33m,\u001b[0m \u001b[0mvar_x1_0\u001b[0m\u001b[1;33m,\u001b[0m \u001b[0mmean_x0_1\u001b[0m\u001b[1;33m,\u001b[0m \u001b[0mvar_x0_1\u001b[0m\u001b[1;33m,\u001b[0m \u001b[0mmean_x1_1\u001b[0m\u001b[1;33m,\u001b[0m \u001b[0mvar_x1_1\u001b[0m\u001b[1;33m)\u001b[0m\u001b[1;33m\u001b[0m\u001b[1;33m\u001b[0m\u001b[0m\n\u001b[0;32m     33\u001b[0m \u001b[1;32mimport\u001b[0m \u001b[0msys\u001b[0m\u001b[1;33m\u001b[0m\u001b[1;33m\u001b[0m\u001b[0m\n",
      "\u001b[1;31mNameError\u001b[0m: name 'test0_2d' is not defined"
     ]
    }
   ],
   "source": [
    "#Task 3\n",
    "\n",
    "def get_liklihood_x0_0(x0, mean, var):\n",
    "    \n",
    "    return norm.pdf(x0, loc=mean, scale=math.sqrt(var))\n",
    "\n",
    "def get_liklihood_x1_0(x1, mean, var):\n",
    "    return norm.pdf(x1, loc=mean, scale=math.sqrt(var))\n",
    "\n",
    "def get_liklihood_x0_1(x0, mean, var):\n",
    "    return norm.pdf(x0, loc=mean, scale=math.sqrt(var))\n",
    "\n",
    "def get_liklihood_x1_1(x1, mean, var):\n",
    "    return norm.pdf(x1, loc=mean, scale=math.sqrt(var))\n",
    "\n",
    "def naive_bayes_gaussian_classifier(testset, mean_x0_0, var_x0_0, mean_x1_0, var_x1_0, mean_x0_1, var_x0_1, mean_x1_1, var_x1_1, number_of_0=5000, number_of_1=5000):\n",
    "    prediction = np.empty((len(testset), 3))\n",
    "    p0 = number_of_0 / number_of_0 + number_of_1\n",
    "    p1 = number_of_1 / number_of_0 + number_of_1\n",
    "    for i in range(len(testset)):\n",
    "        x0 = testset[i][0]\n",
    "        x1 = testset[i][1]\n",
    "        nb_0 = np.log(p0) + np.log(get_liklihood_x0_0(x0, mean_x0_0, var_x0_0)) + np.log(get_liklihood_x1_0(x1, mean_x1_0, var_x1_0))\n",
    "        nb_1 = np.log(p1) + np.log(get_liklihood_x0_1(x0, mean_x0_1, var_x0_1)) + np.log(get_liklihood_x1_1(x1, mean_x1_1, var_x1_1))\n",
    "        prediction[i][0] = nb_0\n",
    "        prediction[i][1] = nb_1\n",
    "        prediction[i][2] = 0 if nb_0 >= nb_1 else 1\n",
    "    return prediction           \n",
    "\n",
    "#print(mean_x0_0, var_x0_0, mean_x1_0, var_x1_0, mean_x0_1, var_x0_1, mean_x1_1, var_x1_1)\n",
    "result_of_test0 = naive_bayes_gaussian_classifier(test0_2d, mean_x0_0, var_x0_0, mean_x1_0, var_x1_0, mean_x0_1, var_x0_1, mean_x1_1, var_x1_1)\n",
    "result_of_test1 = naive_bayes_gaussian_classifier(test1_2d, mean_x0_0, var_x0_0, mean_x1_0, var_x1_0, mean_x0_1, var_x0_1, mean_x1_1, var_x1_1)\n",
    "import sys\n",
    "np.set_printoptions(threshold=sys.maxsize)\n",
    "\n",
    "print(\"result_of_test0: \", result_of_test0[:,2])\n",
    "print(\"result_of_test1: \", result_of_test1[:,2])\n"
   ]
  },
  {
   "cell_type": "code",
   "execution_count": 5,
   "metadata": {},
   "outputs": [
    {
     "ename": "NameError",
     "evalue": "name 'result_of_test0' is not defined",
     "output_type": "error",
     "traceback": [
      "\u001b[1;31m---------------------------------------------------------------------------\u001b[0m",
      "\u001b[1;31mNameError\u001b[0m                                 Traceback (most recent call last)",
      "\u001b[1;32m~\\AppData\\Local\\Temp/ipykernel_25432/2310708737.py\u001b[0m in \u001b[0;36m<module>\u001b[1;34m\u001b[0m\n\u001b[0;32m      1\u001b[0m \u001b[1;31m#print(sum(result_of_test0_mle_model[:,2]))\u001b[0m\u001b[1;33m\u001b[0m\u001b[1;33m\u001b[0m\u001b[0m\n\u001b[1;32m----> 2\u001b[1;33m \u001b[0mprint\u001b[0m\u001b[1;33m(\u001b[0m\u001b[1;34m\"Accuracy for digit 0: \"\u001b[0m\u001b[1;33m,\u001b[0m \u001b[1;33m(\u001b[0m\u001b[1;36m980\u001b[0m\u001b[1;33m-\u001b[0m\u001b[0msum\u001b[0m\u001b[1;33m(\u001b[0m\u001b[0mresult_of_test0\u001b[0m\u001b[1;33m[\u001b[0m\u001b[1;33m:\u001b[0m\u001b[1;33m,\u001b[0m\u001b[1;36m2\u001b[0m\u001b[1;33m]\u001b[0m\u001b[1;33m)\u001b[0m\u001b[1;33m)\u001b[0m\u001b[1;33m/\u001b[0m\u001b[1;36m980\u001b[0m\u001b[1;33m)\u001b[0m\u001b[1;33m\u001b[0m\u001b[1;33m\u001b[0m\u001b[0m\n\u001b[0m\u001b[0;32m      3\u001b[0m \u001b[1;31m#print(sum(result_of_test1_mle_model[:,2]))\u001b[0m\u001b[1;33m\u001b[0m\u001b[1;33m\u001b[0m\u001b[0m\n\u001b[0;32m      4\u001b[0m \u001b[0mprint\u001b[0m\u001b[1;33m(\u001b[0m\u001b[1;34m\"Accuracy for digit 1: \"\u001b[0m\u001b[1;33m,\u001b[0m \u001b[0msum\u001b[0m\u001b[1;33m(\u001b[0m\u001b[0mresult_of_test1\u001b[0m\u001b[1;33m[\u001b[0m\u001b[1;33m:\u001b[0m\u001b[1;33m,\u001b[0m\u001b[1;36m2\u001b[0m\u001b[1;33m]\u001b[0m\u001b[1;33m)\u001b[0m\u001b[1;33m/\u001b[0m\u001b[1;36m1135\u001b[0m\u001b[1;33m)\u001b[0m\u001b[1;33m\u001b[0m\u001b[1;33m\u001b[0m\u001b[0m\n",
      "\u001b[1;31mNameError\u001b[0m: name 'result_of_test0' is not defined"
     ]
    }
   ],
   "source": [
    "#print(sum(result_of_test0_mle_model[:,2]))\n",
    "print(\"Accuracy for digit 0: \", (980-sum(result_of_test0[:,2]))/980)\n",
    "#print(sum(result_of_test1_mle_model[:,2]))\n",
    "print(\"Accuracy for digit 1: \", sum(result_of_test1[:,2])/1135)"
   ]
  },
  {
   "cell_type": "code",
   "execution_count": 6,
   "metadata": {},
   "outputs": [
    {
     "ename": "NameError",
     "evalue": "name 'train0_avg' is not defined",
     "output_type": "error",
     "traceback": [
      "\u001b[1;31m---------------------------------------------------------------------------\u001b[0m",
      "\u001b[1;31mNameError\u001b[0m                                 Traceback (most recent call last)",
      "\u001b[1;32m~\\AppData\\Local\\Temp/ipykernel_25432/3686637058.py\u001b[0m in \u001b[0;36m<module>\u001b[1;34m\u001b[0m\n\u001b[0;32m      1\u001b[0m \u001b[1;31m#Task 4\u001b[0m\u001b[1;33m\u001b[0m\u001b[1;33m\u001b[0m\u001b[0m\n\u001b[0;32m      2\u001b[0m \u001b[1;31m#Gaussian model for digit 0\u001b[0m\u001b[1;33m\u001b[0m\u001b[1;33m\u001b[0m\u001b[0m\n\u001b[1;32m----> 3\u001b[1;33m \u001b[0mmu_x0_0\u001b[0m \u001b[1;33m=\u001b[0m \u001b[0mnp\u001b[0m\u001b[1;33m.\u001b[0m\u001b[0maverage\u001b[0m\u001b[1;33m(\u001b[0m\u001b[0mtrain0_avg\u001b[0m\u001b[1;33m)\u001b[0m\u001b[1;33m\u001b[0m\u001b[1;33m\u001b[0m\u001b[0m\n\u001b[0m\u001b[0;32m      4\u001b[0m \u001b[0mmu_x1_0\u001b[0m \u001b[1;33m=\u001b[0m \u001b[0mnp\u001b[0m\u001b[1;33m.\u001b[0m\u001b[0maverage\u001b[0m\u001b[1;33m(\u001b[0m\u001b[0mtrain0_std\u001b[0m\u001b[1;33m)\u001b[0m\u001b[1;33m\u001b[0m\u001b[1;33m\u001b[0m\u001b[0m\n\u001b[0;32m      5\u001b[0m \u001b[0mmu_0\u001b[0m \u001b[1;33m=\u001b[0m \u001b[0mnp\u001b[0m\u001b[1;33m.\u001b[0m\u001b[0marray\u001b[0m\u001b[1;33m(\u001b[0m\u001b[1;33m[\u001b[0m\u001b[0mmu_x0_0\u001b[0m\u001b[1;33m,\u001b[0m \u001b[0mmu_x1_0\u001b[0m\u001b[1;33m]\u001b[0m\u001b[1;33m)\u001b[0m\u001b[1;33m\u001b[0m\u001b[1;33m\u001b[0m\u001b[0m\n",
      "\u001b[1;31mNameError\u001b[0m: name 'train0_avg' is not defined"
     ]
    }
   ],
   "source": [
    "#Task 4\n",
    "#Gaussian model for digit 0\n",
    "mu_x0_0 = np.average(train0_avg)\n",
    "mu_x1_0 = np.average(train0_std)\n",
    "mu_0 = np.array([mu_x0_0, mu_x1_0])\n",
    "\n",
    "train0_2d_tilder = train0_2d - (np.ones((len(train0_2d),1)) * mu_0)\n",
    "sigma_0 = (1/len(train0_2d)) * np.matmul(np.transpose(train0_2d_tilder), train0_2d)\n",
    "\n",
    "print(\"mu_0 = \", mu_0)\n",
    "print(\"variance_x0_0 = \", sigma_0[0][0])\n",
    "print(\"variance_x1_0 = \", sigma_0[1][1])\n",
    "\n",
    "#Gaussian model for digit 1\n",
    "mu_x0_1 = np.average(train1_avg)\n",
    "mu_x1_1 = np.average(train1_std)\n",
    "mu_1 = np.array([mu_x0_1, mu_x1_1])\n",
    "\n",
    "train1_2d_tilder = train1_2d - (np.ones((len(train1_2d),1)) * mu_1)\n",
    "sigma_1 = (1/len(train1_2d)) * np.matmul(np.transpose(train1_2d_tilder), train1_2d)\n",
    "\n",
    "print(\"mu_1 = \", mu_1)\n",
    "print(\"variance_x0_1 = \", sigma_1[0][0])\n",
    "print(\"variance_x1_1 = \", sigma_1[1][1])\n",
    "\n",
    "result_of_test0_mle_model = naive_bayes_gaussian_classifier(test0_2d, mu_0[0], sigma_0[0][0], mu_0[1], sigma_0[1][1], mu_1[0], sigma_1[0][0], mu_1[1], sigma_1[1][1])\n",
    "result_of_test1_mle_model = naive_bayes_gaussian_classifier(test1_2d, mu_0[0], sigma_0[0][0], mu_0[1], sigma_0[1][1], mu_1[0], sigma_1[0][0], mu_1[1], sigma_1[1][1])\n",
    "\n",
    "print(\"result_of_test0: \", result_of_test0_mle_model[:,2])\n",
    "print(\"result_of_test1: \", result_of_test1_mle_model[:,2])\n"
   ]
  },
  {
   "cell_type": "code",
   "execution_count": 53,
   "metadata": {},
   "outputs": [
    {
     "name": "stdout",
     "output_type": "stream",
     "text": [
      "Accuracy for digit 0:  0.917346938776\n",
      "Accuracy for digit 1:  0.923348017621\n"
     ]
    }
   ],
   "source": [
    "#print(sum(result_of_test0_mle_model[:,2]))\n",
    "print(\"Accuracy for digit 0: \", (980-sum(result_of_test0_mle_model[:,2]))/980)\n",
    "#print(sum(result_of_test1_mle_model[:,2]))\n",
    "print(\"Accuracy for digit 1: \", sum(result_of_test1_mle_model[:,2])/1135)"
   ]
  },
  {
   "cell_type": "code",
   "execution_count": null,
   "metadata": {},
   "outputs": [],
   "source": []
  }
 ],
 "metadata": {
  "kernelspec": {
   "display_name": "Python 3 (ipykernel)",
   "language": "python",
   "name": "python3"
  },
  "language_info": {
   "codemirror_mode": {
    "name": "ipython",
    "version": 3
   },
   "file_extension": ".py",
   "mimetype": "text/x-python",
   "name": "python",
   "nbconvert_exporter": "python",
   "pygments_lexer": "ipython3",
   "version": "3.9.7"
  }
 },
 "nbformat": 4,
 "nbformat_minor": 2
}
